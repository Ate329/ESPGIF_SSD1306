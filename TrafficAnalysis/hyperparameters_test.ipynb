{
  "nbformat": 4,
  "nbformat_minor": 0,
  "metadata": {
    "colab": {
      "provenance": [],
      "toc_visible": true,
      "mount_file_id": "1wo2YhjWdJ5DNOKnWiPG52xTYDcnafWpa",
      "authorship_tag": "ABX9TyPxlkBJ03uY54CD5M18hyUA",
      "include_colab_link": true
    },
    "kernelspec": {
      "name": "python3",
      "display_name": "Python 3"
    },
    "language_info": {
      "name": "python"
    }
  },
  "cells": [
    {
      "cell_type": "markdown",
      "metadata": {
        "id": "view-in-github",
        "colab_type": "text"
      },
      "source": [
        "<a href=\"https://colab.research.google.com/github/Ate329/ESPGIF_SSD1306/blob/main/TrafficAnalysis/hyperparameters_test.ipynb\" target=\"_parent\"><img src=\"https://colab.research.google.com/assets/colab-badge.svg\" alt=\"Open In Colab\"/></a>"
      ]
    },
    {
      "cell_type": "code",
      "execution_count": null,
      "metadata": {
        "colab": {
          "base_uri": "https://localhost:8080/"
        },
        "id": "HmcsECDTlTcT",
        "outputId": "d10e2f2a-e048-4705-c275-acfb8a484966"
      },
      "outputs": [
        {
          "output_type": "stream",
          "name": "stdout",
          "text": [
            "Requirement already satisfied: shap in /usr/local/lib/python3.10/dist-packages (0.44.0)\n",
            "Requirement already satisfied: numpy in /usr/local/lib/python3.10/dist-packages (from shap) (1.23.5)\n",
            "Requirement already satisfied: scipy in /usr/local/lib/python3.10/dist-packages (from shap) (1.11.4)\n",
            "Requirement already satisfied: scikit-learn in /usr/local/lib/python3.10/dist-packages (from shap) (1.3.2)\n",
            "Requirement already satisfied: pandas in /usr/local/lib/python3.10/dist-packages (from shap) (1.5.3)\n",
            "Requirement already satisfied: tqdm>=4.27.0 in /usr/local/lib/python3.10/dist-packages (from shap) (4.66.1)\n",
            "Requirement already satisfied: packaging>20.9 in /usr/local/lib/python3.10/dist-packages (from shap) (23.2)\n",
            "Requirement already satisfied: slicer==0.0.7 in /usr/local/lib/python3.10/dist-packages (from shap) (0.0.7)\n",
            "Requirement already satisfied: numba in /usr/local/lib/python3.10/dist-packages (from shap) (0.58.1)\n",
            "Requirement already satisfied: cloudpickle in /usr/local/lib/python3.10/dist-packages (from shap) (2.2.1)\n",
            "Requirement already satisfied: llvmlite<0.42,>=0.41.0dev0 in /usr/local/lib/python3.10/dist-packages (from numba->shap) (0.41.1)\n",
            "Requirement already satisfied: python-dateutil>=2.8.1 in /usr/local/lib/python3.10/dist-packages (from pandas->shap) (2.8.2)\n",
            "Requirement already satisfied: pytz>=2020.1 in /usr/local/lib/python3.10/dist-packages (from pandas->shap) (2023.3.post1)\n",
            "Requirement already satisfied: joblib>=1.1.1 in /usr/local/lib/python3.10/dist-packages (from scikit-learn->shap) (1.3.2)\n",
            "Requirement already satisfied: threadpoolctl>=2.0.0 in /usr/local/lib/python3.10/dist-packages (from scikit-learn->shap) (3.2.0)\n",
            "Requirement already satisfied: six>=1.5 in /usr/local/lib/python3.10/dist-packages (from python-dateutil>=2.8.1->pandas->shap) (1.16.0)\n",
            "Requirement already satisfied: scikit-learn==1.3.2 in /usr/local/lib/python3.10/dist-packages (1.3.2)\n",
            "Requirement already satisfied: numpy<2.0,>=1.17.3 in /usr/local/lib/python3.10/dist-packages (from scikit-learn==1.3.2) (1.23.5)\n",
            "Requirement already satisfied: scipy>=1.5.0 in /usr/local/lib/python3.10/dist-packages (from scikit-learn==1.3.2) (1.11.4)\n",
            "Requirement already satisfied: joblib>=1.1.1 in /usr/local/lib/python3.10/dist-packages (from scikit-learn==1.3.2) (1.3.2)\n",
            "Requirement already satisfied: threadpoolctl>=2.0.0 in /usr/local/lib/python3.10/dist-packages (from scikit-learn==1.3.2) (3.2.0)\n"
          ]
        }
      ],
      "source": [
        "# !pip install shap\n",
        "# !pip install scikit-learn==1.3.2\n",
        "import pandas as pd\n",
        "import numpy as np\n",
        "from sklearn.decomposition import PCA\n",
        "from sklearn.preprocessing import StandardScaler\n",
        "from sklearn.model_selection import train_test_split\n",
        "from sklearn.utils.class_weight import compute_class_weight\n",
        "import joblib\n",
        "import time\n",
        "from sklearn.model_selection import train_test_split\n",
        "import shap\n",
        "from matplotlib import pyplot as plt\n",
        "from sklearn.inspection import permutation_importance\n",
        "from sklearn.model_selection import cross_val_score, StratifiedKFold"
      ]
    },
    {
      "cell_type": "code",
      "source": [
        "start_time = time.time()\n",
        "\n",
        "# Load the dataset\n",
        "print(\"Loading the data...\")\n",
        "final_data_path = \"final-data.csv\"\n",
        "dataset = pd.read_csv(final_data_path)\n",
        "print(\"Successfully loaded the dataset!\")\n",
        "\n",
        "features = dataset[['IPV4_SRC_ADDR', 'L4_SRC_PORT', 'IPV4_DST_ADDR', 'L4_DST_PORT', 'PROTOCOL', 'L7_PROTO', 'IN_BYTES', 'IN_PKTS',\n",
        "                    'OUT_BYTES', 'OUT_PKTS', 'TCP_FLAGS', 'CLIENT_TCP_FLAGS', 'SERVER_TCP_FLAGS', 'FLOW_DURATION_MILLISECONDS',\n",
        "                    'MIN_TTL', 'MAX_TTL', 'LONGEST_FLOW_PKT', 'SHORTEST_FLOW_PKT', 'MIN_IP_PKT_LEN', 'MAX_IP_PKT_LEN',\n",
        "                    'RETRANSMITTED_IN_BYTES', 'RETRANSMITTED_IN_PKTS', 'RETRANSMITTED_OUT_BYTES', 'RETRANSMITTED_OUT_PKTS',\n",
        "                    'SRC_TO_DST_AVG_THROUGHPUT', 'DST_TO_SRC_AVG_THROUGHPUT']]\n",
        "target = dataset['Attack']\n",
        "\n",
        "print(\"Encoding data...\")\n",
        "features_encoded = pd.get_dummies(features, columns=['IPV4_SRC_ADDR', 'IPV4_DST_ADDR', 'PROTOCOL'])\n",
        "\n",
        "elapsed_time = time.time() - start_time\n",
        "print(f\"elapsed time to load the data: {elapsed_time}\")"
      ],
      "metadata": {
        "id": "bqfykA0onF_P",
        "colab": {
          "base_uri": "https://localhost:8080/"
        },
        "outputId": "b5ff4436-00ed-42af-ed0c-835e23b03f8d"
      },
      "execution_count": null,
      "outputs": [
        {
          "output_type": "stream",
          "name": "stdout",
          "text": [
            "Loading the data...\n",
            "Successfully loaded the dataset!\n",
            "Encoding data...\n",
            "elapsed time to load the data: 22.9970645904541\n"
          ]
        }
      ]
    },
    {
      "cell_type": "code",
      "source": [
        "start_time1 = time.time()\n",
        "\n",
        "print(\"loading the model...\")\n",
        "model = joblib.load(\"weight-RF-model.joblib\")\n",
        "\n",
        "'''\n",
        "# Use cross-validation to evaluate model performance\n",
        "print(\"Calculating cross validation score...\")\n",
        "cv = StratifiedKFold(n_splits=5, shuffle=True, random_state=42)\n",
        "cv_scores = cross_val_score(model, features_encoded, target, cv=cv, scoring='accuracy')\n",
        "'''\n",
        "cv_scores = [0.99012875, 0.9900639, 0.99003044, 0.99002416, 0.99011411]\n",
        "\n",
        "# Check if the model performs well on cross-validation\n",
        "if all(cv_score > 0.5 for cv_score in cv_scores):  # Adjust the threshold based on your needs\n",
        "  print(f\"Model has reasonable cross-validation performance: {cv_scores}\")\n",
        "\n",
        "  # Now use permutation_importance\n",
        "  print(\"calculating permutation importances of the model...\")\n",
        "  result = permutation_importance(model, features_encoded, target, n_repeats=30, random_state=42, n_jobs=1)\n",
        "\n",
        "  # Extract the importances and feature names\n",
        "  importances = result.importances_mean\n",
        "  feature_names = features_encoded.columns  # Assuming you have column names in a DataFrame\n",
        "\n",
        "  # Sort the indices of importances in descending order\n",
        "  indices = np.argsort(importances)[::-1]\n",
        "\n",
        "  # Plot the feature importances\n",
        "  plt.bar(range(len(indices)), importances[indices], align=\"center\")\n",
        "  plt.xticks(range(len(indices)), feature_names[indices], rotation='vertical')\n",
        "  plt.xlabel('Feature')\n",
        "  plt.ylabel('Permutation Importance')\n",
        "  plt.show()\n",
        "else:\n",
        "  print(f\"Model does not perform well on cross-validation. Reevaluate your model. The score is: {cv_scores}\")\n",
        "\n",
        "elapsed_time1 = time.time() - start_time1\n",
        "print(f\"total eslapsed time: {elapsed_time1}\")"
      ],
      "metadata": {
        "id": "Z8BsBE4eo3lf"
      },
      "execution_count": null,
      "outputs": []
    }
  ]
}